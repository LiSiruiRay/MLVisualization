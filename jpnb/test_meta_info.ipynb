{
 "cells": [
  {
   "cell_type": "code",
   "execution_count": null,
   "id": "initial_id",
   "metadata": {
    "collapsed": true
   },
   "source": [
    ""
   ],
   "outputs": []
  },
  {
   "metadata": {
    "ExecuteTime": {
     "end_time": "2024-04-17T11:46:44.348764Z",
     "start_time": "2024-04-17T11:46:43.439743Z"
    }
   },
   "cell_type": "code",
   "source": [
    "import numpy as np\n",
    "\n",
    "from util.model_meta_info_reading import reading_test_meta_data\n",
    "\n",
    "df = reading_test_meta_data()"
   ],
   "id": "2e6067a171bb2b52",
   "execution_count": 4,
   "outputs": []
  },
  {
   "metadata": {
    "ExecuteTime": {
     "end_time": "2024-04-17T11:38:42.597669Z",
     "start_time": "2024-04-17T11:38:42.588158Z"
    }
   },
   "cell_type": "code",
   "source": "df",
   "id": "e99485013d238fd6",
   "execution_count": 2,
   "outputs": []
  },
  {
   "metadata": {
    "ExecuteTime": {
     "end_time": "2024-04-17T11:47:09.885159Z",
     "start_time": "2024-04-17T11:47:09.881225Z"
    }
   },
   "cell_type": "code",
   "source": [
    "npy_path = \"../hpc_sync_files/results/pure_sin_first_with_meta_script_20240329@00h50m00s_Autoformer_random_modes64_ETTm2_ftS_sl96_ll48_pl96_dm512_nh8_el2_dl1_df2048_fc3_ebtimeF_dtFalse_Exp_0/metrics.npy\"\n",
    "n = np.load(npy_path)"
   ],
   "id": "ff6a11ed897677f",
   "execution_count": 6,
   "outputs": []
  },
  {
   "metadata": {
    "ExecuteTime": {
     "end_time": "2024-04-17T11:47:13.436114Z",
     "start_time": "2024-04-17T11:47:13.430333Z"
    }
   },
   "cell_type": "code",
   "source": "n",
   "id": "ea0b1e03d48d03cc",
   "execution_count": 7,
   "outputs": []
  },
  {
   "metadata": {
    "ExecuteTime": {
     "end_time": "2024-04-17T12:31:01.968168Z",
     "start_time": "2024-04-17T12:31:01.632401Z"
    }
   },
   "cell_type": "code",
   "source": [
    "from util.model_meta_info_reading import read_meta_data\n",
    "\n",
    "model_mate_df, df_dict, meta_info_list = read_meta_data()"
   ],
   "id": "97097a383094640e",
   "execution_count": 1,
   "outputs": []
  },
  {
   "metadata": {
    "ExecuteTime": {
     "end_time": "2024-04-17T12:31:11.202247Z",
     "start_time": "2024-04-17T12:31:11.199251Z"
    }
   },
   "cell_type": "code",
   "source": "df_dict",
   "id": "3ff8548b018bc253",
   "execution_count": 3,
   "outputs": []
  },
  {
   "metadata": {
    "ExecuteTime": {
     "end_time": "2024-04-17T12:41:36.416769Z",
     "start_time": "2024-04-17T12:41:36.402862Z"
    }
   },
   "cell_type": "code",
   "source": [
    "from util.model_meta_info_reading import read_metric_result\n",
    "import json\n",
    "from collections import defaultdict\n",
    "import os\n",
    "from util.common import get_proje_root_path\n",
    "\n",
    "proje_root = get_proje_root_path()\n",
    "meta_data_path = os.path.join(proje_root, \"hpc_sync_files/meta_info/model_meta_info\")\n",
    "meta_info_json_list = os.listdir(meta_data_path)\n",
    "df_dict = defaultdict(list)\n",
    "meta_info_list = list()\n",
    "\n",
    "for m in meta_info_json_list:\n",
    "    if os.path.isfile(os.path.join(meta_data_path, m)):\n",
    "        with open(os.path.join(meta_data_path, m)) as f:\n",
    "            meta_info = json.load(f)\n",
    "        meta_info_list.append(meta_info)\n",
    "\n",
    "for m in meta_info_list:\n",
    "    model_path = os.path.join(proje_root, \"hpc_sync_files/results\", m[\"model_name\"], \"metrics.npy\")\n",
    "    if not os.path.isfile(model_path):\n",
    "        continue\n",
    "    metric_array = read_metric_result(meta_info=m)\n",
    "    df_dict[\"input_length\"].append(m[\"seq_len\"])\n",
    "    df_dict[\"label_length\"].append(m[\"label_len\"])\n",
    "    df_dict[\"predict_length\"].append(m[\"pred_len\"])\n",
    "    df_dict[\"mae\"].append(metric_array[0])\n",
    "    df_dict[\"mse\"].append(metric_array[1])\n",
    "    df_dict[\"rmse\"].append(metric_array[2])\n",
    "    df_dict[\"mape\"].append(metric_array[3])\n",
    "    df_dict[\"mspe\"].append(metric_array[4])"
   ],
   "id": "ca4efc852cb59820",
   "execution_count": 32,
   "outputs": []
  },
  {
   "metadata": {
    "ExecuteTime": {
     "end_time": "2024-04-17T12:41:37.257861Z",
     "start_time": "2024-04-17T12:41:37.250029Z"
    }
   },
   "cell_type": "code",
   "source": "df_dict",
   "id": "f6c6c4d2feb88eb5",
   "execution_count": 33,
   "outputs": []
  },
  {
   "metadata": {
    "ExecuteTime": {
     "end_time": "2024-04-17T12:34:50.477877Z",
     "start_time": "2024-04-17T12:34:50.472206Z"
    }
   },
   "cell_type": "code",
   "source": "meta_info_list[0][\"model_name\"]",
   "id": "d867c39c428cfc81",
   "execution_count": 8,
   "outputs": []
  },
  {
   "metadata": {
    "ExecuteTime": {
     "end_time": "2024-04-17T12:40:09.054818Z",
     "start_time": "2024-04-17T12:40:09.051787Z"
    }
   },
   "cell_type": "code",
   "source": [
    "t = os.path.join(proje_root, \"hpc_sync_files/results\", meta_info_list[15][\"model_name\"], \"metrics.npy\")\n",
    "os.path.isfile(t)"
   ],
   "id": "d92b5e46dfe00dd3",
   "execution_count": 28,
   "outputs": []
  },
  {
   "metadata": {
    "ExecuteTime": {
     "end_time": "2024-04-17T12:40:31.102121Z",
     "start_time": "2024-04-17T12:40:31.097311Z"
    }
   },
   "cell_type": "code",
   "source": "t",
   "id": "b77ff5b61ba0d51a",
   "execution_count": 30,
   "outputs": []
  },
  {
   "metadata": {},
   "cell_type": "code",
   "execution_count": null,
   "source": "",
   "id": "2647bd27ab270c3c",
   "outputs": []
  }
 ],
 "metadata": {
  "kernelspec": {
   "display_name": "Python 3",
   "language": "python",
   "name": "python3"
  },
  "language_info": {
   "codemirror_mode": {
    "name": "ipython",
    "version": 2
   },
   "file_extension": ".py",
   "mimetype": "text/x-python",
   "name": "python",
   "nbconvert_exporter": "python",
   "pygments_lexer": "ipython2",
   "version": "2.7.6"
  }
 },
 "nbformat": 4,
 "nbformat_minor": 5
}
