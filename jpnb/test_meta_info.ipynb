{
 "cells": [
  {
   "cell_type": "code",
   "execution_count": null,
   "id": "initial_id",
   "metadata": {
    "collapsed": true
   },
   "outputs": [],
   "source": [
    ""
   ]
  },
  {
   "metadata": {
    "ExecuteTime": {
     "end_time": "2024-04-17T11:46:44.348764Z",
     "start_time": "2024-04-17T11:46:43.439743Z"
    }
   },
   "cell_type": "code",
   "source": [
    "import numpy as np\n",
    "\n",
    "from util.model_meta_info_reading import reading_test_meta_data\n",
    "\n",
    "df = reading_test_meta_data()"
   ],
   "id": "2e6067a171bb2b52",
   "outputs": [],
   "execution_count": 4
  },
  {
   "metadata": {
    "ExecuteTime": {
     "end_time": "2024-04-17T11:38:42.597669Z",
     "start_time": "2024-04-17T11:38:42.588158Z"
    }
   },
   "cell_type": "code",
   "source": "df",
   "id": "e99485013d238fd6",
   "outputs": [
    {
     "data": {
      "text/plain": [
       "        input_length  label_length  predict_length       mse       mae  \\\n",
       "0                 96            48              96  2.873698  0.009296   \n",
       "1                 96            48             192  1.345713  0.583002   \n",
       "2                 96            48             288  4.229468  0.844363   \n",
       "3                 96            48             384  2.646946  0.461766   \n",
       "4                 96            48             480  1.521116  4.238243   \n",
       "...              ...           ...             ...       ...       ...   \n",
       "281211          4992          4992            4608  1.219574  1.972880   \n",
       "281212          4992          4992            4704  2.690008  1.083277   \n",
       "281213          4992          4992            4800  2.034371  4.094297   \n",
       "281214          4992          4992            4896  3.075504  1.627678   \n",
       "281215          4992          4992            4992  1.829747  2.060733   \n",
       "\n",
       "                    model_id  \n",
       "0            testing_model_0  \n",
       "1            testing_model_1  \n",
       "2            testing_model_2  \n",
       "3            testing_model_3  \n",
       "4            testing_model_4  \n",
       "...                      ...  \n",
       "281211  testing_model_281211  \n",
       "281212  testing_model_281212  \n",
       "281213  testing_model_281213  \n",
       "281214  testing_model_281214  \n",
       "281215  testing_model_281215  \n",
       "\n",
       "[281216 rows x 6 columns]"
      ],
      "text/html": [
       "<div>\n",
       "<style scoped>\n",
       "    .dataframe tbody tr th:only-of-type {\n",
       "        vertical-align: middle;\n",
       "    }\n",
       "\n",
       "    .dataframe tbody tr th {\n",
       "        vertical-align: top;\n",
       "    }\n",
       "\n",
       "    .dataframe thead th {\n",
       "        text-align: right;\n",
       "    }\n",
       "</style>\n",
       "<table border=\"1\" class=\"dataframe\">\n",
       "  <thead>\n",
       "    <tr style=\"text-align: right;\">\n",
       "      <th></th>\n",
       "      <th>input_length</th>\n",
       "      <th>label_length</th>\n",
       "      <th>predict_length</th>\n",
       "      <th>mse</th>\n",
       "      <th>mae</th>\n",
       "      <th>model_id</th>\n",
       "    </tr>\n",
       "  </thead>\n",
       "  <tbody>\n",
       "    <tr>\n",
       "      <th>0</th>\n",
       "      <td>96</td>\n",
       "      <td>48</td>\n",
       "      <td>96</td>\n",
       "      <td>2.873698</td>\n",
       "      <td>0.009296</td>\n",
       "      <td>testing_model_0</td>\n",
       "    </tr>\n",
       "    <tr>\n",
       "      <th>1</th>\n",
       "      <td>96</td>\n",
       "      <td>48</td>\n",
       "      <td>192</td>\n",
       "      <td>1.345713</td>\n",
       "      <td>0.583002</td>\n",
       "      <td>testing_model_1</td>\n",
       "    </tr>\n",
       "    <tr>\n",
       "      <th>2</th>\n",
       "      <td>96</td>\n",
       "      <td>48</td>\n",
       "      <td>288</td>\n",
       "      <td>4.229468</td>\n",
       "      <td>0.844363</td>\n",
       "      <td>testing_model_2</td>\n",
       "    </tr>\n",
       "    <tr>\n",
       "      <th>3</th>\n",
       "      <td>96</td>\n",
       "      <td>48</td>\n",
       "      <td>384</td>\n",
       "      <td>2.646946</td>\n",
       "      <td>0.461766</td>\n",
       "      <td>testing_model_3</td>\n",
       "    </tr>\n",
       "    <tr>\n",
       "      <th>4</th>\n",
       "      <td>96</td>\n",
       "      <td>48</td>\n",
       "      <td>480</td>\n",
       "      <td>1.521116</td>\n",
       "      <td>4.238243</td>\n",
       "      <td>testing_model_4</td>\n",
       "    </tr>\n",
       "    <tr>\n",
       "      <th>...</th>\n",
       "      <td>...</td>\n",
       "      <td>...</td>\n",
       "      <td>...</td>\n",
       "      <td>...</td>\n",
       "      <td>...</td>\n",
       "      <td>...</td>\n",
       "    </tr>\n",
       "    <tr>\n",
       "      <th>281211</th>\n",
       "      <td>4992</td>\n",
       "      <td>4992</td>\n",
       "      <td>4608</td>\n",
       "      <td>1.219574</td>\n",
       "      <td>1.972880</td>\n",
       "      <td>testing_model_281211</td>\n",
       "    </tr>\n",
       "    <tr>\n",
       "      <th>281212</th>\n",
       "      <td>4992</td>\n",
       "      <td>4992</td>\n",
       "      <td>4704</td>\n",
       "      <td>2.690008</td>\n",
       "      <td>1.083277</td>\n",
       "      <td>testing_model_281212</td>\n",
       "    </tr>\n",
       "    <tr>\n",
       "      <th>281213</th>\n",
       "      <td>4992</td>\n",
       "      <td>4992</td>\n",
       "      <td>4800</td>\n",
       "      <td>2.034371</td>\n",
       "      <td>4.094297</td>\n",
       "      <td>testing_model_281213</td>\n",
       "    </tr>\n",
       "    <tr>\n",
       "      <th>281214</th>\n",
       "      <td>4992</td>\n",
       "      <td>4992</td>\n",
       "      <td>4896</td>\n",
       "      <td>3.075504</td>\n",
       "      <td>1.627678</td>\n",
       "      <td>testing_model_281214</td>\n",
       "    </tr>\n",
       "    <tr>\n",
       "      <th>281215</th>\n",
       "      <td>4992</td>\n",
       "      <td>4992</td>\n",
       "      <td>4992</td>\n",
       "      <td>1.829747</td>\n",
       "      <td>2.060733</td>\n",
       "      <td>testing_model_281215</td>\n",
       "    </tr>\n",
       "  </tbody>\n",
       "</table>\n",
       "<p>281216 rows × 6 columns</p>\n",
       "</div>"
      ]
     },
     "execution_count": 2,
     "metadata": {},
     "output_type": "execute_result"
    }
   ],
   "execution_count": 2
  },
  {
   "metadata": {
    "ExecuteTime": {
     "end_time": "2024-04-17T11:47:09.885159Z",
     "start_time": "2024-04-17T11:47:09.881225Z"
    }
   },
   "cell_type": "code",
   "source": [
    "npy_path = \"../hpc_sync_files/results/pure_sin_first_with_meta_script_20240329@00h50m00s_Autoformer_random_modes64_ETTm2_ftS_sl96_ll48_pl96_dm512_nh8_el2_dl1_df2048_fc3_ebtimeF_dtFalse_Exp_0/metrics.npy\"\n",
    "n = np.load(npy_path)"
   ],
   "id": "ff6a11ed897677f",
   "outputs": [],
   "execution_count": 6
  },
  {
   "metadata": {
    "ExecuteTime": {
     "end_time": "2024-04-17T11:47:13.436114Z",
     "start_time": "2024-04-17T11:47:13.430333Z"
    }
   },
   "cell_type": "code",
   "source": "n",
   "id": "ea0b1e03d48d03cc",
   "outputs": [
    {
     "data": {
      "text/plain": [
       "array([2.7617234e-01, 1.2153549e-01, 3.4861940e-01, 1.0652251e+10,\n",
       "       1.0454900e+22], dtype=float32)"
      ]
     },
     "execution_count": 7,
     "metadata": {},
     "output_type": "execute_result"
    }
   ],
   "execution_count": 7
  },
  {
   "metadata": {
    "ExecuteTime": {
     "end_time": "2024-04-17T12:31:01.968168Z",
     "start_time": "2024-04-17T12:31:01.632401Z"
    }
   },
   "cell_type": "code",
   "source": [
    "from util.model_meta_info_reading import read_meta_data\n",
    "\n",
    "model_mate_df, df_dict, meta_info_list = read_meta_data()"
   ],
   "id": "97097a383094640e",
   "outputs": [],
   "execution_count": 1
  },
  {
   "metadata": {
    "ExecuteTime": {
     "end_time": "2024-04-17T12:31:11.202247Z",
     "start_time": "2024-04-17T12:31:11.199251Z"
    }
   },
   "cell_type": "code",
   "source": "df_dict",
   "id": "3ff8548b018bc253",
   "outputs": [
    {
     "data": {
      "text/plain": [
       "defaultdict(list, {})"
      ]
     },
     "execution_count": 3,
     "metadata": {},
     "output_type": "execute_result"
    }
   ],
   "execution_count": 3
  },
  {
   "metadata": {
    "ExecuteTime": {
     "end_time": "2024-04-17T12:41:36.416769Z",
     "start_time": "2024-04-17T12:41:36.402862Z"
    }
   },
   "cell_type": "code",
   "source": [
    "from util.model_meta_info_reading import read_metric_result\n",
    "import json\n",
    "from collections import defaultdict\n",
    "import os\n",
    "from util.common import get_proje_root_path\n",
    "\n",
    "proje_root = get_proje_root_path()\n",
    "meta_data_path = os.path.join(proje_root, \"hpc_sync_files/meta_info/model_meta_info\")\n",
    "meta_info_json_list = os.listdir(meta_data_path)\n",
    "df_dict = defaultdict(list)\n",
    "meta_info_list = list()\n",
    "\n",
    "for m in meta_info_json_list:\n",
    "    if os.path.isfile(os.path.join(meta_data_path, m)):\n",
    "        with open(os.path.join(meta_data_path, m)) as f:\n",
    "            meta_info = json.load(f)\n",
    "        meta_info_list.append(meta_info)\n",
    "\n",
    "for m in meta_info_list:\n",
    "    model_path = os.path.join(proje_root, \"hpc_sync_files/results\", m[\"model_name\"], \"metrics.npy\")\n",
    "    if not os.path.isfile(model_path):\n",
    "        continue\n",
    "    metric_array = read_metric_result(meta_info=m)\n",
    "    df_dict[\"input_length\"].append(m[\"seq_len\"])\n",
    "    df_dict[\"label_length\"].append(m[\"label_len\"])\n",
    "    df_dict[\"predict_length\"].append(m[\"pred_len\"])\n",
    "    df_dict[\"mae\"].append(metric_array[0])\n",
    "    df_dict[\"mse\"].append(metric_array[1])\n",
    "    df_dict[\"rmse\"].append(metric_array[2])\n",
    "    df_dict[\"mape\"].append(metric_array[3])\n",
    "    df_dict[\"mspe\"].append(metric_array[4])"
   ],
   "id": "ca4efc852cb59820",
   "outputs": [],
   "execution_count": 32
  },
  {
   "metadata": {
    "ExecuteTime": {
     "end_time": "2024-04-17T12:41:37.257861Z",
     "start_time": "2024-04-17T12:41:37.250029Z"
    }
   },
   "cell_type": "code",
   "source": "df_dict",
   "id": "f6c6c4d2feb88eb5",
   "outputs": [
    {
     "data": {
      "text/plain": [
       "defaultdict(list,\n",
       "            {'input_length': [384, 192, 192, 768, 96, 192, 192],\n",
       "             'label_length': [48, 96, 96, 48, 48, 96, 48],\n",
       "             'predict_length': [96, 384, 96, 96, 96, 1536, 96],\n",
       "             'mae': [0.2374587,\n",
       "              0.04200307,\n",
       "              0.113635756,\n",
       "              0.29451138,\n",
       "              0.27617228,\n",
       "              0.02013363,\n",
       "              0.29083973],\n",
       "             'mse': [0.090838954,\n",
       "              0.003373803,\n",
       "              0.021876482,\n",
       "              0.13966513,\n",
       "              0.12153549,\n",
       "              0.0007937146,\n",
       "              0.12999411],\n",
       "             'rmse': [0.301395,\n",
       "              0.058084447,\n",
       "              0.147907,\n",
       "              0.37371796,\n",
       "              0.3486194,\n",
       "              0.02817294,\n",
       "              0.36054695],\n",
       "             'mape': [8796332000.0,\n",
       "              1772341400.0,\n",
       "              6958816000.0,\n",
       "              12974404000.0,\n",
       "              10652250000.0,\n",
       "              842120960.0,\n",
       "              12850876000.0],\n",
       "             'mspe': [7.8010874e+21,\n",
       "              3.4974184e+20,\n",
       "              4.203214e+21,\n",
       "              1.4339091e+22,\n",
       "              1.04549e+22,\n",
       "              7.4806505e+19,\n",
       "              1.4308011e+22]})"
      ]
     },
     "execution_count": 33,
     "metadata": {},
     "output_type": "execute_result"
    }
   ],
   "execution_count": 33
  },
  {
   "metadata": {
    "ExecuteTime": {
     "end_time": "2024-04-17T12:34:50.477877Z",
     "start_time": "2024-04-17T12:34:50.472206Z"
    }
   },
   "cell_type": "code",
   "source": "meta_info_list[0][\"model_name\"]",
   "id": "d867c39c428cfc81",
   "outputs": [
    {
     "data": {
      "text/plain": [
       "'pure_sin_first_with_meta_script_20240401@03h16m55s_Autoformer_random_modes64_ETTm2_ftS_sl192_ll96_pl786432_dm512_nh8_el2_dl1_df2048_fc3_ebtimeF_dtFalse_Exp_0'"
      ]
     },
     "execution_count": 8,
     "metadata": {},
     "output_type": "execute_result"
    }
   ],
   "execution_count": 8
  },
  {
   "metadata": {
    "ExecuteTime": {
     "end_time": "2024-04-17T12:40:09.054818Z",
     "start_time": "2024-04-17T12:40:09.051787Z"
    }
   },
   "cell_type": "code",
   "source": [
    "t = os.path.join(proje_root, \"hpc_sync_files/results\", meta_info_list[15][\"model_name\"], \"metrics.npy\")\n",
    "os.path.isfile(t)"
   ],
   "id": "d92b5e46dfe00dd3",
   "outputs": [
    {
     "data": {
      "text/plain": [
       "True"
      ]
     },
     "execution_count": 28,
     "metadata": {},
     "output_type": "execute_result"
    }
   ],
   "execution_count": 28
  },
  {
   "metadata": {
    "ExecuteTime": {
     "end_time": "2024-04-17T12:40:31.102121Z",
     "start_time": "2024-04-17T12:40:31.097311Z"
    }
   },
   "cell_type": "code",
   "source": "t",
   "id": "b77ff5b61ba0d51a",
   "outputs": [
    {
     "data": {
      "text/plain": [
       "'/Users/ray/rayfile/self-project/research_ml_visualization/util/../hpc_sync_files/results/pure_sin_first_with_meta_script_20240401@03h16m24s_Autoformer_random_modes64_ETTm2_ftS_sl192_ll96_pl1536_dm512_nh8_el2_dl1_df2048_fc3_ebtimeF_dtFalse_Exp_0/metrics.npy'"
      ]
     },
     "execution_count": 30,
     "metadata": {},
     "output_type": "execute_result"
    }
   ],
   "execution_count": 30
  },
  {
   "metadata": {},
   "cell_type": "code",
   "outputs": [],
   "execution_count": null,
   "source": "",
   "id": "2647bd27ab270c3c"
  }
 ],
 "metadata": {
  "kernelspec": {
   "display_name": "Python 3",
   "language": "python",
   "name": "python3"
  },
  "language_info": {
   "codemirror_mode": {
    "name": "ipython",
    "version": 2
   },
   "file_extension": ".py",
   "mimetype": "text/x-python",
   "name": "python",
   "nbconvert_exporter": "python",
   "pygments_lexer": "ipython2",
   "version": "2.7.6"
  }
 },
 "nbformat": 4,
 "nbformat_minor": 5
}
