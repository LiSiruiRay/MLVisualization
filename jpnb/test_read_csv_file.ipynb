{
 "cells": [
  {
   "cell_type": "code",
   "id": "initial_id",
   "metadata": {
    "collapsed": true,
    "ExecuteTime": {
     "end_time": "2024-04-18T20:36:34.188388Z",
     "start_time": "2024-04-18T20:36:34.124179Z"
    }
   },
   "source": [
    "from util.data_set import read_training_ds\n",
    "import pandas as pd\n",
    "\n",
    "\n",
    "df = read_training_ds(ds_name=\"7b8eb1af5d57de5bdbfd850bb84fd8d05fa4d14aa89d1803c24c903b3f293de0\")"
   ],
   "outputs": [],
   "execution_count": 5
  },
  {
   "metadata": {
    "ExecuteTime": {
     "end_time": "2024-04-18T20:36:35.142891Z",
     "start_time": "2024-04-18T20:36:35.135505Z"
    }
   },
   "cell_type": "code",
   "source": "df",
   "id": "ab5647b3aa9d1f5b",
   "outputs": [
    {
     "data": {
      "text/plain": [
       "                      date         OT\n",
       "0      2016-07-01 00:00:00   0.000000\n",
       "1      2016-07-01 00:15:00   3.270156\n",
       "2      2016-07-01 00:30:00   6.526310\n",
       "3      2016-07-01 00:45:00   9.754516\n",
       "4      2016-07-01 01:00:00  12.940952\n",
       "...                    ...        ...\n",
       "69675  2018-06-26 18:45:00 -49.039264\n",
       "69676  2018-06-26 19:00:00 -48.296291\n",
       "69677  2018-06-26 19:15:00 -47.346506\n",
       "69678  2018-06-26 19:30:00 -46.193977\n",
       "69679  2018-06-26 19:45:00 -44.843637\n",
       "\n",
       "[69680 rows x 2 columns]"
      ],
      "text/html": [
       "<div>\n",
       "<style scoped>\n",
       "    .dataframe tbody tr th:only-of-type {\n",
       "        vertical-align: middle;\n",
       "    }\n",
       "\n",
       "    .dataframe tbody tr th {\n",
       "        vertical-align: top;\n",
       "    }\n",
       "\n",
       "    .dataframe thead th {\n",
       "        text-align: right;\n",
       "    }\n",
       "</style>\n",
       "<table border=\"1\" class=\"dataframe\">\n",
       "  <thead>\n",
       "    <tr style=\"text-align: right;\">\n",
       "      <th></th>\n",
       "      <th>date</th>\n",
       "      <th>OT</th>\n",
       "    </tr>\n",
       "  </thead>\n",
       "  <tbody>\n",
       "    <tr>\n",
       "      <th>0</th>\n",
       "      <td>2016-07-01 00:00:00</td>\n",
       "      <td>0.000000</td>\n",
       "    </tr>\n",
       "    <tr>\n",
       "      <th>1</th>\n",
       "      <td>2016-07-01 00:15:00</td>\n",
       "      <td>3.270156</td>\n",
       "    </tr>\n",
       "    <tr>\n",
       "      <th>2</th>\n",
       "      <td>2016-07-01 00:30:00</td>\n",
       "      <td>6.526310</td>\n",
       "    </tr>\n",
       "    <tr>\n",
       "      <th>3</th>\n",
       "      <td>2016-07-01 00:45:00</td>\n",
       "      <td>9.754516</td>\n",
       "    </tr>\n",
       "    <tr>\n",
       "      <th>4</th>\n",
       "      <td>2016-07-01 01:00:00</td>\n",
       "      <td>12.940952</td>\n",
       "    </tr>\n",
       "    <tr>\n",
       "      <th>...</th>\n",
       "      <td>...</td>\n",
       "      <td>...</td>\n",
       "    </tr>\n",
       "    <tr>\n",
       "      <th>69675</th>\n",
       "      <td>2018-06-26 18:45:00</td>\n",
       "      <td>-49.039264</td>\n",
       "    </tr>\n",
       "    <tr>\n",
       "      <th>69676</th>\n",
       "      <td>2018-06-26 19:00:00</td>\n",
       "      <td>-48.296291</td>\n",
       "    </tr>\n",
       "    <tr>\n",
       "      <th>69677</th>\n",
       "      <td>2018-06-26 19:15:00</td>\n",
       "      <td>-47.346506</td>\n",
       "    </tr>\n",
       "    <tr>\n",
       "      <th>69678</th>\n",
       "      <td>2018-06-26 19:30:00</td>\n",
       "      <td>-46.193977</td>\n",
       "    </tr>\n",
       "    <tr>\n",
       "      <th>69679</th>\n",
       "      <td>2018-06-26 19:45:00</td>\n",
       "      <td>-44.843637</td>\n",
       "    </tr>\n",
       "  </tbody>\n",
       "</table>\n",
       "<p>69680 rows × 2 columns</p>\n",
       "</div>"
      ]
     },
     "execution_count": 6,
     "metadata": {},
     "output_type": "execute_result"
    }
   ],
   "execution_count": 6
  },
  {
   "metadata": {
    "ExecuteTime": {
     "end_time": "2024-04-18T20:36:36.357195Z",
     "start_time": "2024-04-18T20:36:36.335380Z"
    }
   },
   "cell_type": "code",
   "source": [
    "# Assuming 'df' is your DataFrame\n",
    "# Convert the 'date' column to datetime if it's not already\n",
    "df['date'] = pd.to_datetime(df['date'])\n",
    "\n",
    "# Define your start and end date as strings\n",
    "start_date = \"2016-07-01\"\n",
    "end_date = \"2016-08-01\"\n",
    "\n",
    "# Use searchsorted to find the start and end indices\n",
    "start_idx = df['date'].searchsorted(pd.to_datetime(start_date), side='left')\n",
    "end_idx = df['date'].searchsorted(pd.to_datetime(end_date), side='right')\n",
    "\n",
    "# Use the indices to slice the DataFrame\n",
    "filtered_df = df.iloc[start_idx:end_idx]\n"
   ],
   "id": "12226e3a76ec1c61",
   "outputs": [],
   "execution_count": 7
  },
  {
   "metadata": {},
   "cell_type": "markdown",
   "source": "",
   "id": "d4219249f348efe1"
  },
  {
   "metadata": {
    "ExecuteTime": {
     "end_time": "2024-04-18T21:12:43.278481Z",
     "start_time": "2024-04-18T21:12:43.269208Z"
    }
   },
   "cell_type": "code",
   "source": "filtered_df.iloc[0][\"date\"]",
   "id": "7508f3d1ab75ac11",
   "outputs": [
    {
     "data": {
      "text/plain": [
       "Timestamp('2016-07-01 00:00:00')"
      ]
     },
     "execution_count": 26,
     "metadata": {},
     "output_type": "execute_result"
    }
   ],
   "execution_count": 26
  },
  {
   "metadata": {
    "ExecuteTime": {
     "end_time": "2024-04-19T14:02:54.085308Z",
     "start_time": "2024-04-19T14:02:54.071326Z"
    }
   },
   "cell_type": "code",
   "source": "filtered_df[[\"date\"]]",
   "id": "8aadaa9f05653be0",
   "outputs": [
    {
     "data": {
      "text/plain": [
       "                    date\n",
       "0    2016-07-01 00:00:00\n",
       "1    2016-07-01 00:15:00\n",
       "2    2016-07-01 00:30:00\n",
       "3    2016-07-01 00:45:00\n",
       "4    2016-07-01 01:00:00\n",
       "...                  ...\n",
       "2972 2016-07-31 23:00:00\n",
       "2973 2016-07-31 23:15:00\n",
       "2974 2016-07-31 23:30:00\n",
       "2975 2016-07-31 23:45:00\n",
       "2976 2016-08-01 00:00:00\n",
       "\n",
       "[2977 rows x 1 columns]"
      ],
      "text/html": [
       "<div>\n",
       "<style scoped>\n",
       "    .dataframe tbody tr th:only-of-type {\n",
       "        vertical-align: middle;\n",
       "    }\n",
       "\n",
       "    .dataframe tbody tr th {\n",
       "        vertical-align: top;\n",
       "    }\n",
       "\n",
       "    .dataframe thead th {\n",
       "        text-align: right;\n",
       "    }\n",
       "</style>\n",
       "<table border=\"1\" class=\"dataframe\">\n",
       "  <thead>\n",
       "    <tr style=\"text-align: right;\">\n",
       "      <th></th>\n",
       "      <th>date</th>\n",
       "    </tr>\n",
       "  </thead>\n",
       "  <tbody>\n",
       "    <tr>\n",
       "      <th>0</th>\n",
       "      <td>2016-07-01 00:00:00</td>\n",
       "    </tr>\n",
       "    <tr>\n",
       "      <th>1</th>\n",
       "      <td>2016-07-01 00:15:00</td>\n",
       "    </tr>\n",
       "    <tr>\n",
       "      <th>2</th>\n",
       "      <td>2016-07-01 00:30:00</td>\n",
       "    </tr>\n",
       "    <tr>\n",
       "      <th>3</th>\n",
       "      <td>2016-07-01 00:45:00</td>\n",
       "    </tr>\n",
       "    <tr>\n",
       "      <th>4</th>\n",
       "      <td>2016-07-01 01:00:00</td>\n",
       "    </tr>\n",
       "    <tr>\n",
       "      <th>...</th>\n",
       "      <td>...</td>\n",
       "    </tr>\n",
       "    <tr>\n",
       "      <th>2972</th>\n",
       "      <td>2016-07-31 23:00:00</td>\n",
       "    </tr>\n",
       "    <tr>\n",
       "      <th>2973</th>\n",
       "      <td>2016-07-31 23:15:00</td>\n",
       "    </tr>\n",
       "    <tr>\n",
       "      <th>2974</th>\n",
       "      <td>2016-07-31 23:30:00</td>\n",
       "    </tr>\n",
       "    <tr>\n",
       "      <th>2975</th>\n",
       "      <td>2016-07-31 23:45:00</td>\n",
       "    </tr>\n",
       "    <tr>\n",
       "      <th>2976</th>\n",
       "      <td>2016-08-01 00:00:00</td>\n",
       "    </tr>\n",
       "  </tbody>\n",
       "</table>\n",
       "<p>2977 rows × 1 columns</p>\n",
       "</div>"
      ]
     },
     "execution_count": 27,
     "metadata": {},
     "output_type": "execute_result"
    }
   ],
   "execution_count": 27
  },
  {
   "metadata": {
    "ExecuteTime": {
     "end_time": "2024-04-19T14:08:34.455382Z",
     "start_time": "2024-04-19T14:08:34.417360Z"
    }
   },
   "cell_type": "code",
   "source": "filtered_df.values",
   "id": "e1dabaef55342882",
   "outputs": [
    {
     "data": {
      "text/plain": [
       "array([[Timestamp('2016-07-01 00:00:00'), 0.0],\n",
       "       [Timestamp('2016-07-01 00:15:00'), 3.270156461507153],\n",
       "       [Timestamp('2016-07-01 00:30:00'), 6.526309611002579],\n",
       "       ...,\n",
       "       [Timestamp('2016-07-31 23:30:00'), -6.526309611003521],\n",
       "       [Timestamp('2016-07-31 23:45:00'), -3.2701564615087024],\n",
       "       [Timestamp('2016-08-01 00:00:00'), -7.349118756157297e-13]],\n",
       "      dtype=object)"
      ]
     },
     "execution_count": 28,
     "metadata": {},
     "output_type": "execute_result"
    }
   ],
   "execution_count": 28
  },
  {
   "metadata": {},
   "cell_type": "code",
   "outputs": [],
   "execution_count": null,
   "source": "",
   "id": "bf928bed494f263e"
  }
 ],
 "metadata": {
  "kernelspec": {
   "display_name": "Python 3",
   "language": "python",
   "name": "python3"
  },
  "language_info": {
   "codemirror_mode": {
    "name": "ipython",
    "version": 2
   },
   "file_extension": ".py",
   "mimetype": "text/x-python",
   "name": "python",
   "nbconvert_exporter": "python",
   "pygments_lexer": "ipython2",
   "version": "2.7.6"
  }
 },
 "nbformat": 4,
 "nbformat_minor": 5
}
