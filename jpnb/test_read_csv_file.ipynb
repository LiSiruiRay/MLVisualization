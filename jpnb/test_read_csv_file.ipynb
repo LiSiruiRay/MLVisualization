{
 "cells": [
  {
   "cell_type": "code",
   "id": "initial_id",
   "metadata": {
    "collapsed": true,
    "ExecuteTime": {
     "end_time": "2024-04-18T19:37:32.739459Z",
     "start_time": "2024-04-18T19:37:32.694917Z"
    }
   },
   "source": [
    "from util.data_set import read_training_ds\n",
    "\n",
    "df = read_training_ds(ds_name=\"7b8eb1af5d57de5bdbfd850bb84fd8d05fa4d14aa89d1803c24c903b3f293de0\")"
   ],
   "outputs": [],
   "execution_count": 2
  },
  {
   "metadata": {
    "ExecuteTime": {
     "end_time": "2024-04-18T19:37:35.706166Z",
     "start_time": "2024-04-18T19:37:35.690061Z"
    }
   },
   "cell_type": "code",
   "source": "df",
   "id": "ab5647b3aa9d1f5b",
   "outputs": [
    {
     "data": {
      "text/plain": [
       "                      date         OT\n",
       "0      2016-07-01 00:00:00   0.000000\n",
       "1      2016-07-01 00:15:00   3.270156\n",
       "2      2016-07-01 00:30:00   6.526310\n",
       "3      2016-07-01 00:45:00   9.754516\n",
       "4      2016-07-01 01:00:00  12.940952\n",
       "...                    ...        ...\n",
       "69675  2018-06-26 18:45:00 -49.039264\n",
       "69676  2018-06-26 19:00:00 -48.296291\n",
       "69677  2018-06-26 19:15:00 -47.346506\n",
       "69678  2018-06-26 19:30:00 -46.193977\n",
       "69679  2018-06-26 19:45:00 -44.843637\n",
       "\n",
       "[69680 rows x 2 columns]"
      ],
      "text/html": [
       "<div>\n",
       "<style scoped>\n",
       "    .dataframe tbody tr th:only-of-type {\n",
       "        vertical-align: middle;\n",
       "    }\n",
       "\n",
       "    .dataframe tbody tr th {\n",
       "        vertical-align: top;\n",
       "    }\n",
       "\n",
       "    .dataframe thead th {\n",
       "        text-align: right;\n",
       "    }\n",
       "</style>\n",
       "<table border=\"1\" class=\"dataframe\">\n",
       "  <thead>\n",
       "    <tr style=\"text-align: right;\">\n",
       "      <th></th>\n",
       "      <th>date</th>\n",
       "      <th>OT</th>\n",
       "    </tr>\n",
       "  </thead>\n",
       "  <tbody>\n",
       "    <tr>\n",
       "      <th>0</th>\n",
       "      <td>2016-07-01 00:00:00</td>\n",
       "      <td>0.000000</td>\n",
       "    </tr>\n",
       "    <tr>\n",
       "      <th>1</th>\n",
       "      <td>2016-07-01 00:15:00</td>\n",
       "      <td>3.270156</td>\n",
       "    </tr>\n",
       "    <tr>\n",
       "      <th>2</th>\n",
       "      <td>2016-07-01 00:30:00</td>\n",
       "      <td>6.526310</td>\n",
       "    </tr>\n",
       "    <tr>\n",
       "      <th>3</th>\n",
       "      <td>2016-07-01 00:45:00</td>\n",
       "      <td>9.754516</td>\n",
       "    </tr>\n",
       "    <tr>\n",
       "      <th>4</th>\n",
       "      <td>2016-07-01 01:00:00</td>\n",
       "      <td>12.940952</td>\n",
       "    </tr>\n",
       "    <tr>\n",
       "      <th>...</th>\n",
       "      <td>...</td>\n",
       "      <td>...</td>\n",
       "    </tr>\n",
       "    <tr>\n",
       "      <th>69675</th>\n",
       "      <td>2018-06-26 18:45:00</td>\n",
       "      <td>-49.039264</td>\n",
       "    </tr>\n",
       "    <tr>\n",
       "      <th>69676</th>\n",
       "      <td>2018-06-26 19:00:00</td>\n",
       "      <td>-48.296291</td>\n",
       "    </tr>\n",
       "    <tr>\n",
       "      <th>69677</th>\n",
       "      <td>2018-06-26 19:15:00</td>\n",
       "      <td>-47.346506</td>\n",
       "    </tr>\n",
       "    <tr>\n",
       "      <th>69678</th>\n",
       "      <td>2018-06-26 19:30:00</td>\n",
       "      <td>-46.193977</td>\n",
       "    </tr>\n",
       "    <tr>\n",
       "      <th>69679</th>\n",
       "      <td>2018-06-26 19:45:00</td>\n",
       "      <td>-44.843637</td>\n",
       "    </tr>\n",
       "  </tbody>\n",
       "</table>\n",
       "<p>69680 rows × 2 columns</p>\n",
       "</div>"
      ]
     },
     "execution_count": 3,
     "metadata": {},
     "output_type": "execute_result"
    }
   ],
   "execution_count": 3
  },
  {
   "metadata": {},
   "cell_type": "code",
   "outputs": [],
   "execution_count": null,
   "source": "",
   "id": "12226e3a76ec1c61"
  }
 ],
 "metadata": {
  "kernelspec": {
   "display_name": "Python 3",
   "language": "python",
   "name": "python3"
  },
  "language_info": {
   "codemirror_mode": {
    "name": "ipython",
    "version": 2
   },
   "file_extension": ".py",
   "mimetype": "text/x-python",
   "name": "python",
   "nbconvert_exporter": "python",
   "pygments_lexer": "ipython2",
   "version": "2.7.6"
  }
 },
 "nbformat": 4,
 "nbformat_minor": 5
}
