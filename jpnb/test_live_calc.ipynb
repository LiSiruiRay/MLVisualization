{
 "cells": [
  {
   "cell_type": "code",
   "id": "initial_id",
   "metadata": {
    "collapsed": true,
    "ExecuteTime": {
     "end_time": "2024-04-19T14:34:09.376927Z",
     "start_time": "2024-04-19T14:34:09.295684Z"
    }
   },
   "source": [
    "from util.model_until.model_loader import ModelLoader\n",
    "from util.model_until.data_provider_loader import DataProviderLoader\n",
    "\n",
    "model_id = \"pure_sin_first_with_meta_script_20240330@03h10m09s_20240330@03h10m09s\"\n",
    "dpl = DataProviderLoader(model_id=model_id)\n",
    "dpl.load_load_data_provider()\n",
    "print(f\"result: {dpl.data_set}\")\n",
    "ml = ModelLoader(model_id=model_id)\n",
    "ml.load_model()"
   ],
   "outputs": [
    {
     "ename": "TypeError",
     "evalue": "read_json_and_create_namespace() missing 1 required positional argument: 'json_file_path'",
     "output_type": "error",
     "traceback": [
      "\u001B[0;31m---------------------------------------------------------------------------\u001B[0m",
      "\u001B[0;31mTypeError\u001B[0m                                 Traceback (most recent call last)",
      "Cell \u001B[0;32mIn[2], line 5\u001B[0m\n\u001B[1;32m      2\u001B[0m \u001B[38;5;28;01mfrom\u001B[39;00m \u001B[38;5;21;01mutil\u001B[39;00m\u001B[38;5;21;01m.\u001B[39;00m\u001B[38;5;21;01mmodel_until\u001B[39;00m\u001B[38;5;21;01m.\u001B[39;00m\u001B[38;5;21;01mdata_provider_loader\u001B[39;00m \u001B[38;5;28;01mimport\u001B[39;00m DataProviderLoader\n\u001B[1;32m      4\u001B[0m model_id \u001B[38;5;241m=\u001B[39m \u001B[38;5;124m\"\u001B[39m\u001B[38;5;124mpure_sin_first_with_meta_script_20240330@03h10m09s_20240330@03h10m09s\u001B[39m\u001B[38;5;124m\"\u001B[39m\n\u001B[0;32m----> 5\u001B[0m dpl \u001B[38;5;241m=\u001B[39m \u001B[43mDataProviderLoader\u001B[49m\u001B[43m(\u001B[49m\u001B[43mmodel_id\u001B[49m\u001B[38;5;241;43m=\u001B[39;49m\u001B[43mmodel_id\u001B[49m\u001B[43m)\u001B[49m\n\u001B[1;32m      6\u001B[0m dpl\u001B[38;5;241m.\u001B[39mload_load_data_provider()\n\u001B[1;32m      7\u001B[0m \u001B[38;5;28mprint\u001B[39m(\u001B[38;5;124mf\u001B[39m\u001B[38;5;124m\"\u001B[39m\u001B[38;5;124mresult: \u001B[39m\u001B[38;5;132;01m{\u001B[39;00mdpl\u001B[38;5;241m.\u001B[39mdata_set\u001B[38;5;132;01m}\u001B[39;00m\u001B[38;5;124m\"\u001B[39m)\n",
      "File \u001B[0;32m~/rayfile/self-project/research_ml_visualization/util/model_until/data_provider_loader.py:35\u001B[0m, in \u001B[0;36mDataProviderLoader.__init__\u001B[0;34m(self, model_id, sync_file_path)\u001B[0m\n\u001B[1;32m     32\u001B[0m \u001B[38;5;28;01mwith\u001B[39;00m \u001B[38;5;28mopen\u001B[39m(\u001B[38;5;28mself\u001B[39m\u001B[38;5;241m.\u001B[39mmodel_meta_info_path, \u001B[38;5;124m\"\u001B[39m\u001B[38;5;124mr\u001B[39m\u001B[38;5;124m\"\u001B[39m) \u001B[38;5;28;01mas\u001B[39;00m f:\n\u001B[1;32m     33\u001B[0m     \u001B[38;5;28mself\u001B[39m\u001B[38;5;241m.\u001B[39mmeta_info \u001B[38;5;241m=\u001B[39m json\u001B[38;5;241m.\u001B[39mload(f)\n\u001B[0;32m---> 35\u001B[0m \u001B[38;5;28mself\u001B[39m\u001B[38;5;241m.\u001B[39mconfig \u001B[38;5;241m=\u001B[39m \u001B[43mread_json_and_create_namespace\u001B[49m\u001B[43m(\u001B[49m\u001B[43m)\u001B[49m\n",
      "\u001B[0;31mTypeError\u001B[0m: read_json_and_create_namespace() missing 1 required positional argument: 'json_file_path'"
     ]
    }
   ],
   "execution_count": 2
  },
  {
   "metadata": {},
   "cell_type": "code",
   "outputs": [],
   "execution_count": null,
   "source": "",
   "id": "1f12feb51b047f95"
  }
 ],
 "metadata": {
  "kernelspec": {
   "display_name": "Python 3",
   "language": "python",
   "name": "python3"
  },
  "language_info": {
   "codemirror_mode": {
    "name": "ipython",
    "version": 2
   },
   "file_extension": ".py",
   "mimetype": "text/x-python",
   "name": "python",
   "nbconvert_exporter": "python",
   "pygments_lexer": "ipython2",
   "version": "2.7.6"
  }
 },
 "nbformat": 4,
 "nbformat_minor": 5
}
