{
 "cells": [
  {
   "cell_type": "code",
   "id": "initial_id",
   "metadata": {
    "collapsed": true,
    "is_executing": true,
    "ExecuteTime": {
     "end_time": "2024-04-17T09:32:36.864416Z",
     "start_time": "2024-04-17T09:32:36.559907Z"
    }
   },
   "source": [
    "import copy\n",
    "\n",
    "from util.model_until.model_loader import ModelLoader\n",
    "from util.model_until.data_provider_loader import DataProviderLoader\n",
    "\n",
    "model_id = \"pure_sin_first_with_meta_script_20240401@03h16m24s_20240401@03h16m24s\"\n",
    "dpl = DataProviderLoader(model_id=model_id)\n",
    "dpl.load_load_data_provider()\n",
    "print(f\"result: {dpl.data_set}\")\n",
    "ml = ModelLoader(model_id=model_id)\n",
    "ml.load_model()"
   ],
   "execution_count": 48,
   "outputs": []
  },
  {
   "metadata": {
    "ExecuteTime": {
     "end_time": "2024-04-17T09:32:39.675877Z",
     "start_time": "2024-04-17T09:32:39.673428Z"
    }
   },
   "cell_type": "code",
   "source": "",
   "id": "2db188939209067e",
   "execution_count": 48,
   "outputs": []
  },
  {
   "cell_type": "code",
   "source": [
    "import os\n",
    "from util.common import get_proje_root_path\n",
    "\n",
    "model_name = ml.meta_info[\"model_name\"]\n",
    "\n",
    "proje_root = get_proje_root_path()\n",
    "result_path = os.path.join(proje_root, f\"hpc_sync_files/results/{model_name}\")"
   ],
   "metadata": {
    "collapsed": false,
    "ExecuteTime": {
     "end_time": "2024-04-17T09:32:39.879511Z",
     "start_time": "2024-04-17T09:32:39.875142Z"
    }
   },
   "id": "ce84c38c5e670b5b",
   "execution_count": 49,
   "outputs": []
  },
  {
   "metadata": {
    "ExecuteTime": {
     "end_time": "2024-04-17T09:32:41.659339Z",
     "start_time": "2024-04-17T09:32:41.639338Z"
    }
   },
   "cell_type": "code",
   "source": "result_path",
   "id": "30c83f702a26e088",
   "execution_count": 50,
   "outputs": []
  },
  {
   "metadata": {
    "ExecuteTime": {
     "end_time": "2024-04-17T09:32:56.956235Z",
     "start_time": "2024-04-17T09:32:44.516082Z"
    }
   },
   "cell_type": "code",
   "source": [
    "import torch\n",
    "input_list = list()\n",
    "enu_data_loader = enumerate(dpl.data_loader)"
   ],
   "id": "21ea4f4460f1378c",
   "execution_count": 51,
   "outputs": []
  },
  {
   "metadata": {
    "ExecuteTime": {
     "end_time": "2024-04-17T09:33:32.738800Z",
     "start_time": "2024-04-17T09:33:32.736593Z"
    }
   },
   "cell_type": "code",
   "source": [
    "for i, (batch_x, batch_y, batch_x_mark, batch_y_mark) in enu_data_loader:\n",
    "    # print(f\"working on {i} / {len(dpl.data_loader)}\")\n",
    "    batch_x = batch_x.float().to(torch.device('cpu'))\n",
    "    input = batch_x.detach().cpu().numpy()\n",
    "    input_list.append(input)\n",
    "    if i >= 50:\n",
    "        break"
   ],
   "id": "33c883a5f3c9d9df",
   "execution_count": 53,
   "outputs": []
  },
  {
   "metadata": {
    "ExecuteTime": {
     "end_time": "2024-04-17T09:33:36.561273Z",
     "start_time": "2024-04-17T09:33:36.555230Z"
    }
   },
   "cell_type": "code",
   "source": "input_list[:5] ",
   "id": "67fe99e2173c830",
   "execution_count": 54,
   "outputs": []
  },
  {
   "metadata": {
    "ExecuteTime": {
     "end_time": "2024-04-17T09:33:36.761730Z",
     "start_time": "2024-04-17T09:33:36.756498Z"
    }
   },
   "cell_type": "code",
   "source": "backup = copy.deepcopy(input_list)",
   "id": "1db7f85669d6b555",
   "execution_count": 55,
   "outputs": []
  },
  {
   "metadata": {
    "ExecuteTime": {
     "end_time": "2024-04-17T09:33:39.608936Z",
     "start_time": "2024-04-17T09:33:39.523717Z"
    }
   },
   "cell_type": "code",
   "source": [
    "import plotly.graph_objects as go\n",
    "import numpy as np\n",
    "from front_end.model_test_data_visual import show_test_data\n",
    "\n",
    "pred_path = os.path.join(result_path, \"pred.npy\")\n",
    "g_true_path = os.path.join(result_path, \"true.npy\")\n",
    "\n",
    "\n",
    "preds = np.load(pred_path)\n",
    "trues = np.load(g_true_path)\n",
    "\n",
    "\n",
    "\n",
    "\n",
    "# curr_input = input_list[new_data_variance]\n",
    "# \n",
    "# gt = np.concatenate((curr_input, trues[new_data_variance][0, :, -1]), axis=0)\n",
    "# pd = np.concatenate((curr_input, preds[new_data_variance][0, :, -1]), axis=0)\n",
    "inputs_save = np.concatenate(input_list, axis=0)\n",
    "inputs_save = inputs_save.reshape(-1, inputs_save.shape[-2], inputs_save.shape[-1])\n",
    "# \n",
    "# # Add trace for initial data\n",
    "# fig.add_trace(go.Scatter(y=gt, mode='lines', name='Ground Truth'))\n",
    "# fig.add_trace(go.Scatter(y=pd, mode='lines', name='Prediction'))\n",
    "\n",
    "# sliders = []\n"
   ],
   "id": "821af9b2b7d4ee2d",
   "execution_count": 56,
   "outputs": []
  },
  {
   "metadata": {
    "ExecuteTime": {
     "end_time": "2024-04-17T09:34:42.277098Z",
     "start_time": "2024-04-17T09:34:42.208336Z"
    }
   },
   "cell_type": "code",
   "source": [
    "test_index = 40\n",
    "fig = go.Figure()\n",
    "curr_true = np.squeeze(trues[test_index])\n",
    "curr_pred = np.squeeze(preds[test_index])\n",
    "curr_input = np.squeeze(inputs_save[test_index])\n",
    "\n",
    "draw_true = np.concatenate((curr_input, curr_true))\n",
    "draw_pred = np.concatenate((curr_input, curr_pred))\n",
    "fig.add_trace(go.Scatter(y=draw_true, mode='lines', name='Ground Truth', fillcolor=\"blue\"))\n",
    "fig.add_trace(go.Scatter(y=draw_pred, mode='lines', name='Prediction', fillcolor=\"red\"))\n",
    "\n",
    "fig.update_layout(\n",
    "    # sliders=sliders,\n",
    "    title=\"test result drawing\",\n",
    "    xaxis_title=\"X\",\n",
    "    yaxis_title=\"Y\",\n",
    "    # width=600,\n",
    "    # height=500\n",
    ")\n",
    "fig.show()\n",
    "\n",
    "# several points to check\n",
    "# 1. general shape\n",
    "# 2. connection between input and pred\n",
    "# 3. starting point"
   ],
   "id": "61898ce7d22cccf4",
   "execution_count": 58,
   "outputs": []
  },
  {
   "metadata": {},
   "cell_type": "code",
   "execution_count": null,
   "source": "",
   "id": "58f0b42c8943dd5d",
   "outputs": []
  }
 ],
 "metadata": {
  "kernelspec": {
   "display_name": "Python 3",
   "language": "python",
   "name": "python3"
  },
  "language_info": {
   "codemirror_mode": {
    "name": "ipython",
    "version": 2
   },
   "file_extension": ".py",
   "mimetype": "text/x-python",
   "name": "python",
   "nbconvert_exporter": "python",
   "pygments_lexer": "ipython2",
   "version": "2.7.6"
  }
 },
 "nbformat": 4,
 "nbformat_minor": 5
}
