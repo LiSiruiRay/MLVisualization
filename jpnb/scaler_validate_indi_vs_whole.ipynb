{
 "cells": [
  {
   "cell_type": "code",
   "id": "initial_id",
   "metadata": {
    "collapsed": true,
    "ExecuteTime": {
     "end_time": "2024-04-19T12:55:53.366718Z",
     "start_time": "2024-04-19T12:55:43.841064Z"
    }
   },
   "source": [
    "from sklearn.preprocessing import StandardScaler\n",
    "import numpy as np\n",
    "\n",
    "# Initialize the scaler\n",
    "scaler = StandardScaler()\n",
    "\n",
    "for i in range(100):\n",
    "# Example list\n",
    "    data = np.random.randint(1, 10001, size=50000).reshape(-1, 1)\n",
    "    \n",
    "    # Fit the scaler to the entire data\n",
    "    scaler.fit(data)\n",
    "\n",
    "    test_data = np.random.randint(1, 10001, size=5000).reshape(-1, 1)\n",
    "    \n",
    "    # Transform the whole list\n",
    "    transformed_data = scaler.transform(test_data)\n",
    "    \n",
    "    # Now transform individual elements\n",
    "    individual_transforms = np.array([scaler.transform([[x]]) for x in test_data.ravel()])\n",
    "    \n",
    "    # Results\n",
    "    (transformed_data.flatten(), individual_transforms.flatten())\n",
    "    compare_result = transformed_data.flatten() == individual_transforms.flatten()\n",
    "    if False in compare_result:\n",
    "        print(\"OMG\")"
   ],
   "outputs": [],
   "execution_count": 20
  },
  {
   "metadata": {
    "ExecuteTime": {
     "end_time": "2024-04-19T12:53:12.113691Z",
     "start_time": "2024-04-19T12:53:12.111176Z"
    }
   },
   "cell_type": "code",
   "source": "",
   "id": "24b3ba693552d0eb",
   "outputs": [],
   "execution_count": 9
  },
  {
   "metadata": {
    "ExecuteTime": {
     "end_time": "2024-04-19T12:53:12.267995Z",
     "start_time": "2024-04-19T12:53:12.265145Z"
    }
   },
   "cell_type": "code",
   "source": "",
   "id": "2b37ab8e6d83458f",
   "outputs": [
    {
     "data": {
      "text/plain": [
       "array([ True,  True,  True,  True,  True,  True,  True,  True,  True,\n",
       "        True])"
      ]
     },
     "execution_count": 10,
     "metadata": {},
     "output_type": "execute_result"
    }
   ],
   "execution_count": 10
  },
  {
   "metadata": {
    "ExecuteTime": {
     "end_time": "2024-04-19T12:53:14.219385Z",
     "start_time": "2024-04-19T12:53:14.216381Z"
    }
   },
   "cell_type": "code",
   "source": "False in compare_result",
   "id": "b9e5c0bf76b5c0a3",
   "outputs": [
    {
     "data": {
      "text/plain": [
       "False"
      ]
     },
     "execution_count": 11,
     "metadata": {},
     "output_type": "execute_result"
    }
   ],
   "execution_count": 11
  },
  {
   "metadata": {},
   "cell_type": "code",
   "outputs": [],
   "execution_count": null,
   "source": "",
   "id": "a7c088b4301241d8"
  }
 ],
 "metadata": {
  "kernelspec": {
   "display_name": "Python 3",
   "language": "python",
   "name": "python3"
  },
  "language_info": {
   "codemirror_mode": {
    "name": "ipython",
    "version": 2
   },
   "file_extension": ".py",
   "mimetype": "text/x-python",
   "name": "python",
   "nbconvert_exporter": "python",
   "pygments_lexer": "ipython2",
   "version": "2.7.6"
  }
 },
 "nbformat": 4,
 "nbformat_minor": 5
}
